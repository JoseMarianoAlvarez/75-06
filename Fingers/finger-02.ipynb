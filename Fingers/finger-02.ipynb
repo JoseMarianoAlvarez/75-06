{
 "cells": [
  {
   "cell_type": "markdown",
   "metadata": {},
   "source": [
    "# 75.06/95.58 Organización de Datos\n",
    "# Finger 2: Análisis Exploratorio con Apache Spark: Trocafone.\n",
    "\n",
    "Utilizando las herramientas que provee Apache Spark, se quiere realizar un análisis exploratorio del Set de datos del Trabajo Práctico de la materia.\n",
    "\n",
    "Los datos del TP están disponibles desde el siguiente link:\n",
    "\n",
    "https://drive.google.com/file/d/1gUddcLLujjFfwZslypUv1LESTM6KiwJn/view?usp=sharing\n",
    "\n",
    "Considerando la siguiente información del set de datos\n",
    "\n",
    " - Eventos (events.csv)\n",
    "\n",
    "Se plantean los siguientes puntos a realizar:\n",
    "\n",
    "1. Encontrar cuál es el tipo de evento predominante.\n",
    "2. Encontrar el Top 5 de dispositivos más visitados dentro de la categoría Smartphones.\n",
    "\n",
    "\n",
    "En http://spark.apache.org/docs/latest/rdd-programming-guide.html puede encontrar la documentación de Spark para apoyar lo dado en clase.\n",
    "\n",
    "Recomendamos utilizar para la resolución un Notebook de Jupyter Notebook que permita organizar claramente el output y comentar los hallazgos, de tal forma que puedan compartirse por ejemplo en Github.\n",
    "Los ejercicios deben resolverse utilizando Apache Spark usando e RDDs.\n",
    "A partir de Spark 2 se pueden leer CSV directamente con los readers integrados en Spark.\n",
    "Para esto se debe obtener el sqlContext y luego hacer:\n",
    "\n",
    "dataframe = sqlContext.read.csv('datos.csv')\n",
    "\n",
    "Con eso se obtiene el dataframe de los datos, que es una abstracción por arriba de los RDD. Se puede obtener el rdd a partir del dataframe haciendo simplemente dataframe.rdd.\n",
    "Documentación en http://spark.apache.org/docs/2.1.0/api/python/pyspark.sql.html\n",
    "\n",
    "Atención: Es importante considerar en la resolución que no es posible traer toda la información al driver de spark desde el cluster. Es necesario poder reducir la información hasta un cierto punto que pueda traerse a la memoria del mismo, por lo que operaciones de sumarización, etc deben realizarse en el cluster.\n",
    "\n"
   ]
  },
  {
   "cell_type": "code",
   "execution_count": 1,
   "metadata": {
    "collapsed": true
   },
   "outputs": [],
   "source": [
    "# Iniciamos pyspark\n",
    "import findspark\n",
    "findspark.init()\n",
    "import pyspark\n",
    "\n",
    "# Esto es para poder mostrar el texto de resultado resaltado !!\n",
    "from IPython.display import Markdown, display\n",
    "def printmd(string):\n",
    "    display(Markdown(string))\n",
    "\n",
    "    \n"
   ]
  },
  {
   "cell_type": "code",
   "execution_count": 2,
   "metadata": {},
   "outputs": [
    {
     "data": {
      "text/plain": [
       "1011284"
      ]
     },
     "execution_count": 2,
     "metadata": {},
     "output_type": "execute_result"
    }
   ],
   "source": [
    "# Creamos el contexto\n",
    "sctx = pyspark.SparkContext(appName='Finger 2')\n",
    "sqlctx = pyspark.sql.SQLContext(sctx)\n",
    "\n",
    "# Cargamos el rdd\n",
    "evntrdd = sqlctx.read.csv('..\\\\..\\\\Data\\\\tp1\\\\events.csv', header=True, mode=\"DROPMALFORMED\").rdd\n",
    "\n",
    "# Verificamos la cantidad de registros\n",
    "evntrdd.count()"
   ]
  },
  {
   "cell_type": "markdown",
   "metadata": {},
   "source": [
    "## 1. Encontrar cuál es el tipo de evento predominante.\n"
   ]
  },
  {
   "cell_type": "markdown",
   "metadata": {},
   "source": [
    "Podriamos intentar hacer lo siguiente\n",
    "```python\n",
    "evntrdd.map(lambda a: (a['event'],1)).reduceByKey(lambda a,b: a+b).sortBy(lambda x: x[1], False).first()\n",
    "```\n",
    "Esta forma es peligrosa porque sortBy hace shuffle y __no debe__ usarse cuando se busca \"el mas\" o \"el menos\" de algo. \n",
    "\n",
    "NOTA: Es este caso no sería neceario porque la cantidad distinta de eventos posible es muy pequeña.\n",
    "\n",
    "<br>\n",
    "> Siempre se debe tratar de evitar las operaciones que hacen Shuffle hasta tener menos datos\n",
    "<br>\n",
    "\n",
    "<br>\n",
    "<br>\n",
    "La siguiente es la forma correcta de hacerlo\n",
    "<br>\n"
   ]
  },
  {
   "cell_type": "code",
   "execution_count": 3,
   "metadata": {},
   "outputs": [
    {
     "data": {
      "text/markdown": [
       "> __El evento predominante es el \"viewed product\" y contiene 528931 eventos__,"
      ],
      "text/plain": [
       "<IPython.core.display.Markdown object>"
      ]
     },
     "metadata": {},
     "output_type": "display_data"
    }
   ],
   "source": [
    "eventoPredominante = evntrdd.map(lambda a: (a['event'],1)).reduceByKey(lambda a,b: a+b).reduce(lambda x,y: x if x[1] > y[1] else y)\n",
    "\n",
    "# Imprimo el resultado\n",
    "printmd('> __El evento predominante es el \"{0}\" y contiene {1} eventos__,'.format(eventoPredominante[0],eventoPredominante[1]))\n"
   ]
  },
  {
   "cell_type": "markdown",
   "metadata": {},
   "source": [
    "## 2. Encontrar el Top 5 de dispositivos más visitados dentro de la categoría Smartphones."
   ]
  },
  {
   "cell_type": "markdown",
   "metadata": {},
   "source": [
    "Dada la ambiguedad del enunciado, porque __no existe en el dataset un feature que significa \"categoria\"__, analizamos los datos tomando en cuenta primero device_type == 'Smartphone' que es lo más parecido a una categoría ya que esa columna identifica el tipo de dispositivo desde donde se generó el evento"
   ]
  },
  {
   "cell_type": "code",
   "execution_count": 4,
   "metadata": {},
   "outputs": [
    {
     "name": "stdout",
     "output_type": "stream",
     "text": [
      "44239\n",
      "0\n",
      "0\n"
     ]
    }
   ],
   "source": [
    "#Filtramos por device_type == 'Smartphone'\n",
    "print(evntrdd.filter(lambda x : x.device_type == 'Smartphone').count())\n",
    "print(evntrdd.filter(lambda x : x.device_type == 'Smartphone').filter(lambda x : x.model != None).count())\n",
    "print(evntrdd.filter(lambda x : x.device_type == 'Smartphone').filter(lambda x : x.sku != None).count())\n",
    "\n"
   ]
  },
  {
   "cell_type": "markdown",
   "metadata": {},
   "source": [
    "Como podemos ver  los resultados una vez filtrada device_type == 'Smartphone' es 44239 registros. Sin embargo los resultados asociados con productos son 0 por lo que se va a hace el análisis __sin filtrar__ por device_type.\n",
    "\n",
    "Analizamos ahora los datos eliminando la idea de device_type como indicador de categoria, y utilizando el evento 'viewed product' que corresponde a la pagina de visita del producto y asumiendo que los resultados son todos smartphones."
   ]
  },
  {
   "cell_type": "code",
   "execution_count": 5,
   "metadata": {},
   "outputs": [
    {
     "name": "stdout",
     "output_type": "stream",
     "text": [
      "528931\n",
      "528931\n",
      "528931\n"
     ]
    }
   ],
   "source": [
    "\n",
    "print(evntrdd.filter(lambda x : x.event == 'viewed product').count())\n",
    "print(evntrdd.filter(lambda x : x.event == 'viewed product').filter(lambda x : x.model != None).count())\n",
    "print(evntrdd.filter(lambda x : x.event == 'viewed product').filter(lambda x : x.sku != None).count())\n"
   ]
  },
  {
   "cell_type": "markdown",
   "metadata": {},
   "source": [
    "Como ahora si obtenemos registros vamos a visualizar los primeros 5 y corroborar que son smartphones"
   ]
  },
  {
   "cell_type": "code",
   "execution_count": 6,
   "metadata": {},
   "outputs": [
    {
     "name": "stdout",
     "output_type": "stream",
     "text": [
      "[('iPhone 6', 47538), ('iPhone 5s', 42045), ('iPhone 6S', 36930), ('iPhone 7', 26330), ('Samsung Galaxy S7 Edge', 23062)]\n"
     ]
    }
   ],
   "source": [
    "top5ModelsVec = evntrdd.filter(lambda x: x.event == 'viewed product')\\\n",
    "    .filter(lambda x: x.model != None)\\\n",
    "    .map(lambda x: (x.model,1))\\\n",
    "    .reduceByKey(lambda a,b: a+b)\\\n",
    "    .sortBy(lambda x: x[1], False)\\\n",
    "    .take(5)\n",
    "\n",
    "print(top5ModelsVec)\n"
   ]
  },
  {
   "cell_type": "markdown",
   "metadata": {},
   "source": [
    "Vamos entonces a visualizarlos de una manera más cómoda"
   ]
  },
  {
   "cell_type": "code",
   "execution_count": 8,
   "metadata": {},
   "outputs": [
    {
     "data": {
      "image/png": "[encoded data removed]",
      "text/plain": [
       "<matplotlib.figure.Figure at 0x1ad65eebd68>"
      ]
     },
     "metadata": {},
     "output_type": "display_data"
    }
   ],
   "source": [
    "# plot\n",
    "import matplotlib   #requerido para color map\n",
    "import matplotlib.pyplot as plt\n",
    "\n",
    "\n",
    "x_val = [x[0] for x in top5ModelsVec]\n",
    "y_val = [x[1] for x in top5ModelsVec]\n",
    "\n",
    "colors = ['m', 'b', 'g', 'c', 'r'] #, 'y', 'g'\n",
    "\n",
    "fig = plt.figure(figsize=(12, 6),facecolor='lightgoldenrodyellow')\n",
    "ax = fig.add_subplot(111)\n",
    "ax.grid(color='k', linestyle=':', linewidth=2, axis='x')\n",
    "\n",
    "fig.suptitle(\"Dispositivos más visitados (5) - Trocafone Web Analytics\\n\", fontsize=20)\n",
    "\n",
    "ax.barh(x_val, y_val, color=colors)\n",
    "plt.ylabel('Modelo' , fontsize=16)\n",
    "plt.xlabel('Cantidad de visitas' , fontsize=16)\n",
    "\n",
    "\n",
    "# Footer\n",
    "plt.show()\n"
   ]
  },
  {
   "cell_type": "markdown",
   "metadata": {},
   "source": [
    "\n",
    "\n"
   ]
  }
 ],
 "metadata": {
  "kernelspec": {
   "display_name": "Python 3",
   "language": "python",
   "name": "python3"
  },
  "language_info": {
   "codemirror_mode": {
    "name": "ipython",
    "version": 3
   },
   "file_extension": ".py",
   "mimetype": "text/x-python",
   "name": "python",
   "nbconvert_exporter": "python",
   "pygments_lexer": "ipython3",
   "version": "3.6.4"
  }
 },
 "nbformat": 4,
 "nbformat_minor": 2
}
