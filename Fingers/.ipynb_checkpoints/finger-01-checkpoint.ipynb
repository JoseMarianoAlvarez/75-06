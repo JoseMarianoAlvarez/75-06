{
 "cells": [
  {
   "cell_type": "markdown",
   "metadata": {},
   "source": [
    "# 75.06/95.58 Organización de Datos\n",
    "# Finger 1: Análisis de datos de eventos en Trocafone\n",
    "\n",
    "\n",
    "El objetivo de este ejercicio es realizar un muy rápido análisis del set de datos del TP. Es una\n",
    "buena oportunidad para instalar las herramientas que van a usar para la primera entrega del TP\n",
    "que consiste en realizar un análisis exploratorio y visualizaciones.\n",
    "\n"
   ]
  },
  {
   "cell_type": "code",
   "execution_count": null,
   "metadata": {
    "collapsed": true
   },
   "outputs": [],
   "source": [
    "import pandas as pd\n",
    "import matplotlib   #requerido para color map\n",
    "import matplotlib.pyplot as plt\n",
    "import pandas as pd\n",
    "\n",
    "#Tree Map\n",
    "import squarify\n"
   ]
  },
  {
   "cell_type": "markdown",
   "metadata": {},
   "source": [
    "## Importar los datos al dataframe\n",
    "\n",
    "#### low_memory : boolean, default True    \n",
    "Internally process the file in chunks, resulting in lower memory use while parsing, but possibly mixed type inference. To ensure no mixed types either set False, or specify the type with the dtype parameter. Note that the entire file is read into a single DataFrame regardless, use the chunksize or iterator parameter to return the data in chunks. (Only valid with C parser)\n"
   ]
  },
  {
   "cell_type": "code",
   "execution_count": null,
   "metadata": {
    "collapsed": true
   },
   "outputs": [],
   "source": [
    "df = pd.read_csv('..\\\\..\\\\Data\\\\tp1\\\\events.csv', low_memory=False)"
   ]
  },
  {
   "cell_type": "markdown",
   "metadata": {},
   "source": [
    "## 1) - Analizar cuál es el tipo de evento predominante en el set de datos\n",
    "\n",
    "La columna 'event' indica el tipo de evento\n"
   ]
  },
  {
   "cell_type": "code",
   "execution_count": null,
   "metadata": {},
   "outputs": [],
   "source": [
    "rankingEventos = df.groupby('event').size().sort_values(ascending=False).to_frame(name='cantidad').reset_index()\n"
   ]
  },
  {
   "cell_type": "code",
   "execution_count": null,
   "metadata": {
    "collapsed": true
   },
   "outputs": [],
   "source": [
    "# colores\n",
    "cmap = matplotlib.cm.BuGn\n",
    "mini, maxi = rankingEventos.cantidad.min(), rankingEventos.cantidad.max()\n",
    "norm = matplotlib.colors.Normalize(vmin=mini, vmax=maxi)\n",
    "colors = [cmap(norm(value)) for value in rankingEventos.cantidad]\n",
    "\n",
    "\n",
    "# labels\n",
    "labels = [\"%s\\n%d\" % (label) for label in zip(rankingEventos.event, rankingEventos.cantidad)]\n",
    "\n",
    "# plot treemap\n",
    "fig = plt.figure(figsize=(12, 10),facecolor='lightgoldenrodyellow')\n",
    "fig.suptitle(\"Eventos por tipo - Trocafone Web Analytics\", fontsize=20)\n",
    "ax = fig.add_subplot() #111, aspect=\"equal\"\n",
    "ax = squarify.plot(rankingEventos.cantidad, color=colors, label=labels, ax=ax, alpha=.6 )\n",
    "\n",
    "ax.set_title(\"\\nCantidad por tipo de evento\\n\", fontsize=14)\n",
    "\n",
    "\n",
    "# Barra de escala\n",
    "fig.text(.76, .9, \"Escala\", fontsize=14)\n",
    "img = plt.imshow([rankingEventos.cantidad], cmap=cmap, alpha=.6)\n",
    "img.set_visible(False)\n",
    "fig.colorbar(img, orientation=\"vertical\", shrink=.98)\n",
    "ax.set_xticks([])\n",
    "ax.set_yticks([])\n",
    "\n",
    "# Footer\n",
    "fig.text(.5, -0.005, \"Total de eventos registrados: %d\" % (rankingEventos.cantidad.sum()), fontsize=14, ha=\"center\")\n",
    "\n",
    "plt.show()\n",
    "\n",
    "rankingEventos"
   ]
  },
  {
   "cell_type": "markdown",
   "metadata": {},
   "source": [
    "## 2) - Calcular cuales son los 5 productos (identificados por sku) con mayor cantidad de conversiones."
   ]
  },
  {
   "cell_type": "code",
   "execution_count": null,
   "metadata": {},
   "outputs": [],
   "source": [
    "top5sku=df[df['event'] == 'conversion'].groupby('sku').size().sort_values(ascending=False).head(5).sort_values().to_frame(name='cantidad').reset_index()"
   ]
  },
  {
   "cell_type": "code",
   "execution_count": null,
   "metadata": {},
   "outputs": [],
   "source": [
    "# plot\n",
    "\n",
    "colors = ['m', 'b', 'g', 'c', 'r'] #, 'y', 'g'\n",
    "\n",
    "fig = plt.figure(figsize=(12, 6),facecolor='lightgoldenrodyellow', constrained_layout=True )\n",
    "ax = fig.add_subplot(111)\n",
    "ax.grid(color='k', linestyle=':', linewidth=1, axis='x')\n",
    "\n",
    "fig.suptitle(\"Productos con más conversiones - Trocafone Web Analytics\\n\", fontsize=20)\n",
    "ax.barh(top5sku.sku, top5sku.cantidad, color=colors)\n",
    "plt.ylabel('Producto (SKU)' , fontsize=16)\n",
    "plt.xlabel('Cantidad de eventos' , fontsize=16)\n",
    "\n",
    "\n",
    "# Footer\n",
    "fig.text(.5, -0.05, \"\\nTotal de eventos registrados: %d\" % (rankingEventos.cantidad.sum()), fontsize=14, ha=\"center\")\n",
    "plt.show()\n",
    "\n",
    "#Muestra el dataframe\n",
    "top5sku"
   ]
  },
  {
   "cell_type": "markdown",
   "metadata": {},
   "source": [
    "# 3) - Averiguar cuáles son los 10 usuarios que registraron más actividad en la plataforma (es decir, realizaron más eventos)."
   ]
  },
  {
   "cell_type": "code",
   "execution_count": null,
   "metadata": {},
   "outputs": [],
   "source": [
    "top10Person = df.groupby('person').size().sort_values(ascending=False).head(10).sort_values().to_frame(name='cantidad').reset_index()"
   ]
  },
  {
   "cell_type": "code",
   "execution_count": null,
   "metadata": {},
   "outputs": [],
   "source": [
    "\n",
    "\n",
    "# plot\n",
    "fig = plt.figure(figsize=(12, 8), facecolor='lightgoldenrodyellow', constrained_layout=True)\n",
    "ax = fig.add_subplot(111)\n",
    "ax.grid(color='k', linestyle=':', linewidth=1, axis='x')\n",
    "\n",
    "fig.suptitle(\"Usuarios más activos - Trocafone Web Analytics\\n\", fontsize=20)\n",
    "ax.barh(top10Person.person, top10Person.cantidad ,color='G')\n",
    "plt.ylabel('Usuario (person)' , fontsize=16)\n",
    "plt.xlabel('Cantidad de eventos' , fontsize=16)\n",
    "\n",
    "# Footer\n",
    "fig.text(.5, -0.05, \"\\nTotal de eventos registrados: %d\" % (rankingEventos.cantidad.sum()), fontsize=14, ha=\"center\")\n",
    "plt.show()\n",
    "\n",
    "#Muestra el dataframe\n",
    "top10Person\n"
   ]
  }
 ],
 "metadata": {
  "kernelspec": {
   "display_name": "Python 3",
   "language": "python",
   "name": "python3"
  },
  "language_info": {
   "codemirror_mode": {
    "name": "ipython",
    "version": 3
   },
   "file_extension": ".py",
   "mimetype": "text/x-python",
   "name": "python",
   "nbconvert_exporter": "python",
   "pygments_lexer": "ipython3",
   "version": "3.7.0"
  }
 },
 "nbformat": 4,
 "nbformat_minor": 2
}
