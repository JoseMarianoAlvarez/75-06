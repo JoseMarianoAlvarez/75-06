{
 "cells": [
  {
   "cell_type": "code",
   "execution_count": null,
   "metadata": {},
   "outputs": [],
   "source": [
    "import pandas as pd\n",
    "import numpy as np\n",
    "import matplotlib.pyplot as plt\n",
    "import seaborn as sns; sns.set()\n",
    "%matplotlib inline\n",
    "from datetime import datetime"
   ]
  },
  {
   "cell_type": "code",
   "execution_count": null,
   "metadata": {},
   "outputs": [],
   "source": [
    "troca = pd.read_csv('data/events.csv', encoding='UTF-8', low_memory = False, parse_dates = ['timestamp'], na_values=['Unknown'])\n",
    "######troca['timestamp'] = troca['timestamp'].astype('datetime64[ns]')\n",
    "troca['marca'] = troca.model.str.split().str.get(0)\n",
    "troca['dia_semana'] = troca['timestamp'].dt.weekday\n",
    "# troca_dedup = troca.drop_duplicates()\n",
    "# troca.count(), troca_dedup.count()\n",
    "troca.sample()"
   ]
  },
  {
   "cell_type": "markdown",
   "metadata": {},
   "source": [
    "# Exploración de datos sobre el timestamp\n"
   ]
  },
  {
   "cell_type": "markdown",
   "metadata": {},
   "source": [
    "### Sobre troca completo"
   ]
  },
  {
   "cell_type": "code",
   "execution_count": null,
   "metadata": {},
   "outputs": [],
   "source": [
    "troca.set_index('timestamp', inplace=True)\n",
    "troca"
   ]
  },
  {
   "cell_type": "code",
   "execution_count": null,
   "metadata": {},
   "outputs": [],
   "source": [
    "# eventos ocurridos el 13 de marzo a las 13.50\n",
    "troca['2018-03-13 13:50']"
   ]
  },
  {
   "cell_type": "code",
   "execution_count": null,
   "metadata": {},
   "outputs": [],
   "source": [
    "#between May 3rd and May 4th\n",
    "troca['5/3/2018':'5/4/2018']"
   ]
  },
  {
   "cell_type": "code",
   "execution_count": null,
   "metadata": {},
   "outputs": [],
   "source": [
    "troca['5-2018']"
   ]
  },
  {
   "cell_type": "code",
   "execution_count": null,
   "metadata": {},
   "outputs": [],
   "source": [
    "#Count the number of observations per timestamp\n",
    "troca.groupby(level=0).count()"
   ]
  },
  {
   "cell_type": "code",
   "execution_count": null,
   "metadata": {},
   "outputs": [],
   "source": [
    "# conteo semanal (reshapeo el df para q el indice tome valores semanales)\n",
    "troca.resample('7d').count().head()"
   ]
  },
  {
   "cell_type": "code",
   "execution_count": null,
   "metadata": {},
   "outputs": [],
   "source": [
    "troca.resample('7D').count().plot()"
   ]
  },
  {
   "cell_type": "markdown",
   "metadata": {},
   "source": [
    "# Informacion sobre las personas\n",
    "* varían con el día?\n",
    "* entran varios días seguidos?\n",
    "* cambia los fines de semana?"
   ]
  },
  {
   "cell_type": "code",
   "execution_count": null,
   "metadata": {},
   "outputs": [],
   "source": [
    "troca.reset_index(inplace=True)\n",
    "troca.sample()"
   ]
  },
  {
   "cell_type": "code",
   "execution_count": null,
   "metadata": {},
   "outputs": [],
   "source": [
    "troca_by_user = troca[['person','event', 'dia_semana','timestamp', 'marca']].groupby(['person','event','dia_semana']).count().sample()"
   ]
  },
  {
   "cell_type": "code",
   "execution_count": null,
   "metadata": {},
   "outputs": [],
   "source": [
    "troca[['person','event', 'dia_semana']].groupby(['person','event']).count().plot(kind='bar')\n"
   ]
  },
  {
   "cell_type": "code",
   "execution_count": null,
   "metadata": {},
   "outputs": [],
   "source": [
    "troca_by_user[(troca_by_user['event'] == 'checkout') and (troca_by_user['event'] != 'conversion')]"
   ]
  },
  {
   "cell_type": "markdown",
   "metadata": {},
   "source": [
    "## Qué es cada evento:\n",
    "\n",
    "* “viewed product”: El usuario visita una página de producto.\n",
    "* “brand listing”: El usuario visita un listado específico de una marca viendo un conjunto de productos.\n",
    "* “visited site”: El usuario ingresa al sitio a una determinada url.\n",
    "* “ad campaign hit”: El usuario ingresa al sitio mediante una campana de marketing online.\n",
    "* “generic listing”: El usuario visita la homepage.\n",
    "* “searched products”: El usuario realiza una búsqueda de productos en la interfaz de búsqueda del site.\n",
    "* “search engine hit”: El usuario ingresa al sitio mediante un motor de búsqueda web.\n",
    "* “checkout”: El usuario ingresa al checkout de compra de un producto.\n",
    "* “staticpage”: El usuario visita una página\n",
    "* “conversion”: El usuario realiza una conversión, comprando un producto.\n",
    "* “lead”: El usuario se registra para recibir una notificación de disponibilidad de stock, para un producto que no se encontraba disponible en ese momento."
   ]
  },
  {
   "cell_type": "code",
   "execution_count": null,
   "metadata": {},
   "outputs": [],
   "source": [
    "troca['event'].value_counts()"
   ]
  },
  {
   "cell_type": "markdown",
   "metadata": {},
   "source": [
    "## Viewed product\n",
    "* vistas por producto\n",
    "* vistas por producto y pais/ciudad"
   ]
  },
  {
   "cell_type": "code",
   "execution_count": null,
   "metadata": {},
   "outputs": [],
   "source": [
    "view_prod = troca[troca.event == 'viewed product'].dropna(axis=1, how='all').drop('event', axis=1)\n",
    "view_prod.head(1)"
   ]
  },
  {
   "cell_type": "markdown",
   "metadata": {},
   "source": [
    "## brand listing \n",
    "* vs conversion: cuántos usuarios cambiaron de marca? (entraron buscando una y compraron otra, ver si se puede hacer)\n",
    "* listados de marca por ciudad/pais"
   ]
  },
  {
   "cell_type": "code",
   "execution_count": null,
   "metadata": {},
   "outputs": [],
   "source": [
    "brand_listing = troca[troca.event == 'brand listing'].dropna(axis=1, how='all').drop('event', axis=1)\n",
    "brand_listing.head(1)"
   ]
  },
  {
   "cell_type": "markdown",
   "metadata": {},
   "source": [
    "# Visited site\n",
    "* visitas al sitio por ciudad\n",
    "* visitas al sitio por dispositivo/pantalla/SO\n",
    "* dia semana\n",
    "* por temporadas\n"
   ]
  },
  {
   "cell_type": "code",
   "execution_count": null,
   "metadata": {
    "scrolled": true
   },
   "outputs": [],
   "source": [
    "visited_site = troca[troca.event == 'visited site'].dropna(axis=1, how='all').drop('event', axis=1)\n",
    "visited_site.head(1)"
   ]
  },
  {
   "cell_type": "markdown",
   "metadata": {},
   "source": [
    "\n",
    "## Ad campaign hit\n",
    "Simil anterior\n",
    "* relacionar con conversiones para sacar si vale la inversión en ads\n",
    "* ver si se pueden ver números relacionados a la influencia de block ads? (Yep volado esto (?))"
   ]
  },
  {
   "cell_type": "code",
   "execution_count": null,
   "metadata": {},
   "outputs": [],
   "source": [
    "ad_hit = troca[troca.event == 'ad campaign hit'].dropna(axis=1, how='all').drop('event', axis=1)\n",
    "ad_hit.head(1)"
   ]
  },
  {
   "cell_type": "markdown",
   "metadata": {},
   "source": [
    "## Generic listing\n",
    "Similar anterior"
   ]
  },
  {
   "cell_type": "code",
   "execution_count": null,
   "metadata": {},
   "outputs": [],
   "source": [
    "generic_listing = troca[troca.event == 'generic listing'].dropna(axis=1, how='all').drop('event', axis=1)\n",
    "generic_listing.head(1)"
   ]
  },
  {
   "cell_type": "markdown",
   "metadata": {},
   "source": [
    "## Searched products\n",
    "\n",
    "la más interesante del punto de vista de la firma puede ser relacionar SKUS (lo q devuelve una búsqueda) a ciertos terminos de búsqueda y ver si sale algo: si es correcto lo que trae, si trae otras marcas diferentes, si trae cosas que nada que ver, si con alguna búsqueda no trae nada\n",
    "cuáles son las búsquedas más repeticas y cómo reacciona el buscador (q modelos trae)\n",
    "\n",
    ">NOTA: HACER UN DF SEPARADO DE MARCAS X SKU. extraer las dos columnas para joinearlas con 'skus' para esto."
   ]
  },
  {
   "cell_type": "code",
   "execution_count": null,
   "metadata": {},
   "outputs": [],
   "source": [
    "searched_products = troca[troca.event == 'searched products'].dropna(axis=1, how='all').drop('event', axis=1)\n",
    "searched_products.head(1)"
   ]
  },
  {
   "cell_type": "markdown",
   "metadata": {},
   "source": [
    "## search engine hit\n",
    "* fueron más las busquedas por dentro o por fuera.\n",
    "* hay más de una busqueda por fuera en el mismo tiempo desde el mismo usuario? (AKA puede haber tenido que salir y buscar en google porque nuestro buscador no anda?)?"
   ]
  },
  {
   "cell_type": "code",
   "execution_count": null,
   "metadata": {},
   "outputs": [],
   "source": [
    "search_engine_hit = troca[troca.event == 'search engine hit'].dropna(axis=1, how='all').drop('event', axis=1)\n",
    "search_engine_hit.head(1)"
   ]
  },
  {
   "cell_type": "markdown",
   "metadata": {},
   "source": [
    "# checkout\n",
    "\n",
    "* ver cantidad de checkout por temporada, día de la semana, marca y modelo, SO/pantalla/dispositivo/navegador\n",
    "* qué caract se venden más: color, storage\n",
    "\n",
    "> para color estaría bueno hacer otro df 'color primario' y agrupar los colores en categorico (por ej: en rojo: rojo sangre, rojo pasión, colorado, salmon y así)."
   ]
  },
  {
   "cell_type": "code",
   "execution_count": null,
   "metadata": {},
   "outputs": [],
   "source": [
    "checkout = troca[troca.event == 'checkout'].dropna(axis=1, how='all').drop('event', axis=1)\n",
    "checkout.head(1)"
   ]
  },
  {
   "cell_type": "markdown",
   "metadata": {},
   "source": [
    "# staticpage\n",
    "* sacar un unique y ver cuales son\n",
    "* ver si se puede hacer un analisis del tipo: ¿está la gente buscando mucho los datos de contacto, viendo como comprar?\n",
    "* Un usuario entró más de una vez a un machete de cómo comprar o a otra? Hay algo ahí?\n",
    "* se relaciona con la conversion?"
   ]
  },
  {
   "cell_type": "code",
   "execution_count": null,
   "metadata": {},
   "outputs": [],
   "source": [
    "staticpage = troca[troca.event == 'staticpage'].dropna(axis=1, how='all').drop('event', axis=1)\n",
    "staticpage.head(1)"
   ]
  },
  {
   "cell_type": "markdown",
   "metadata": {},
   "source": [
    "# conversion\n",
    "* a qué hora del día la gente compra más.\n",
    "* lo mismo para día de la semana, pais, pantalla dispositivo navegador\n",
    "* geolocalizar\n",
    "* que condicion se vende más (bueno, muy bueno, etc)?"
   ]
  },
  {
   "cell_type": "code",
   "execution_count": null,
   "metadata": {},
   "outputs": [],
   "source": [
    "conversion = troca[troca.event == 'conversion'].dropna(axis=1, how='all').drop('event', axis=1)\n",
    "conversion.head(1)"
   ]
  },
  {
   "cell_type": "code",
   "execution_count": null,
   "metadata": {},
   "outputs": [],
   "source": [
    "conversion_por_marca = conversion.groupby(['marca', 'model'])\n",
    "conversion_por_marca[['marca', 'model','condition', 'color']].describe()"
   ]
  },
  {
   "cell_type": "code",
   "execution_count": null,
   "metadata": {},
   "outputs": [],
   "source": [
    "cant_convers_por_marca = conversion_por_marca['timestamp'].count().sort_values(ascending=False)\n",
    "cant_convers_por_marca.head(10)"
   ]
  },
  {
   "cell_type": "code",
   "execution_count": null,
   "metadata": {},
   "outputs": [],
   "source": [
    "conversion_marca_modelo = conversion.loc[:,['timestamp','marca','model']].groupby(['marca','model']).count().sort_values('timestamp', ascending=False)\n",
    "conversion_marca_modelo.head()"
   ]
  },
  {
   "cell_type": "code",
   "execution_count": null,
   "metadata": {
    "scrolled": false
   },
   "outputs": [],
   "source": [
    "cv_marca_modelo = conversion.loc[:,['timestamp','marca','model']].groupby(['marca','model']).count().sort_values('timestamp', ascending=False).head(10).unstack('model').fillna(0)\n",
    "\n",
    "_ = cv_marca_modelo.plot(kind='bar', figsize=(18,7))\n",
    "_.set_title('Top 20 de marcas y modelos más vendidos', fontsize=24)\n",
    "_.set_xlabel('Marca y modelo', fontsize=18)\n",
    "_.set_ylabel('Cantidad de ventas', fontsize=18)"
   ]
  },
  {
   "cell_type": "markdown",
   "metadata": {},
   "source": [
    "### Conversion por estado y color"
   ]
  },
  {
   "cell_type": "code",
   "execution_count": null,
   "metadata": {},
   "outputs": [],
   "source": [
    "conversion_por_estetica = conversion.groupby(['condition', 'color'])\n",
    "conversion_por_estetica.describe()"
   ]
  },
  {
   "cell_type": "code",
   "execution_count": null,
   "metadata": {},
   "outputs": [],
   "source": [
    "conv_caract_esteticas = conversion.loc[:,['timestamp','condition','color']].groupby(['condition','color']).count().sort_values('timestamp', ascending=False)\n",
    "conv_caract_esteticas.head()"
   ]
  },
  {
   "cell_type": "code",
   "execution_count": null,
   "metadata": {},
   "outputs": [],
   "source": [
    "cv_marca_modelo = conversion.loc[:,['timestamp','condition','color']].groupby(['condition','color']).count().sort_values('timestamp', ascending=False).head(20).unstack('condition').fillna(0)\n",
    "\n",
    "_ = cv_marca_modelo.plot(kind='bar', figsize=(18,7))\n",
    "_.set_title('Top 20 de marcas y modelos más vendidos', fontsize=24)\n",
    "_.set_xlabel('Marca y modelo', fontsize=18)\n",
    "_.set_ylabel('Cantidad de ventas', fontsize=18)"
   ]
  },
  {
   "cell_type": "markdown",
   "metadata": {},
   "source": [
    "## Lead\n",
    "“lead”: El usuario se registra para recibir una notificación de disponibilidad de stock, para un producto que no se encontraba disponible en ese momento.\n",
    "\n",
    "* hay usuarios que piden cosas muy raras?\n",
    "* qué modelo esta habitualmente en falta?\n",
    "* qué caracteristica esta habitualmente en falta? por ejemplo, hay storage de 32 pero piden 64...ver si se puede hacer\n",
    "* un horario destaca?"
   ]
  },
  {
   "cell_type": "code",
   "execution_count": null,
   "metadata": {},
   "outputs": [],
   "source": [
    "lead = troca[troca.event == 'lead'].dropna(axis=1, how='all').drop('event', axis=1)\n",
    "lead.sort_values(by='timestamp', axis=0, ascending=True, inplace=False, kind='quicksort', na_position='last').head(1)"
   ]
  },
  {
   "cell_type": "code",
   "execution_count": null,
   "metadata": {},
   "outputs": [],
   "source": [
    "lead_by_marca = lead.groupby(['marca', 'model', 'person'])\n",
    "lead_by_marca[['marca', 'model', 'person','timestamp']].describe()"
   ]
  },
  {
   "cell_type": "code",
   "execution_count": null,
   "metadata": {},
   "outputs": [],
   "source": [
    "# ver el contenido de una determinada marca:\n",
    "# list(lead_by_marca)\n",
    "\n",
    "# Ver a quien aplicar una estrategia de carro abandonado (enviar publicidad de un producto que compró):\n",
    "cant_pedidos_por_marca = lead_by_marca['timestamp'].count().sort_values(ascending=False)\n",
    "cant_pedidos_por_marca.head(10)"
   ]
  },
  {
   "cell_type": "markdown",
   "metadata": {},
   "source": [
    "### Join de llenado de países faltantes y grafico de agregación\n",
    "\n",
    "```python\n",
    "ev_por_persona = troca.loc[:, ['event', 'person']]\n",
    "ev_por_pais = (\n",
    "    ev_por_persona.merge(pais_por_persona, on='person', how='left') # Agregar el país al df\n",
    "    .groupby(['country', 'event'])['country']\n",
    "    .count()\n",
    "    .unstack('event').fillna(0)\n",
    ")\n",
    "\n",
    "_ = ev_por_pais.plot(kind='bar', stacked='true', logy=True, figsize=(20,15))\n",
    "_.set_title('Eventos por país de origen', fontsize=24)\n",
    "_.set_xlabel('País', fontsize=18)\n",
    "_.set_ylabel('Cantidad de eventos (escala log.)', fontsize=18)\n",
    "```\n"
   ]
  },
  {
   "cell_type": "code",
   "execution_count": null,
   "metadata": {},
   "outputs": [],
   "source": [
    "lead_por_marca_modelo = lead.loc[:,['timestamp','marca','model']].groupby(['marca','model']).count().sort_values('timestamp', ascending=False)\n",
    "lead_por_marca_modelo.head()"
   ]
  },
  {
   "cell_type": "code",
   "execution_count": null,
   "metadata": {},
   "outputs": [],
   "source": [
    "lead_por_solo_marca = lead.loc[:,['timestamp','marca','model']].groupby(['marca','model']).count().sort_values('timestamp', ascending=False).head(10).unstack('model').fillna(0)\n",
    "\n",
    "_ = lead_por_solo_marca.plot(kind='bar', figsize=(18,10))\n",
    "_.set_title('Top 20 de marcas y modelos más pedidos', fontsize=24)\n",
    "_.set_xlabel('Marca y modelo', fontsize=18)\n",
    "_.set_ylabel('Cantidad de pedidos', fontsize=18)"
   ]
  },
  {
   "cell_type": "markdown",
   "metadata": {},
   "source": [
    "### intentos verdes\n",
    "## No publicar ni sacar conclusiones de esto"
   ]
  },
  {
   "cell_type": "code",
   "execution_count": null,
   "metadata": {},
   "outputs": [],
   "source": [
    "# exploracion de campos por timestamp (carga en un determinado momento, idempotencia y eso)\n",
    "carga = troca[['event','timestamp']][(troca['event']=='conversion') | (troca['event']=='checkout')].groupby('timestamp').count()\n",
    "carga.head(1)\n",
    "ax = sns.heatmap(carga)\n"
   ]
  },
  {
   "cell_type": "code",
   "execution_count": null,
   "metadata": {},
   "outputs": [],
   "source": [
    "#ax = sns.heatmap(carga)"
   ]
  },
  {
   "cell_type": "code",
   "execution_count": null,
   "metadata": {},
   "outputs": [],
   "source": [
    "lead_by_time = lead[['timestamp']].reset_index().set_index('timestamp').resample('7d').count()#.groupby(['event']).head()\n",
    "lead_by_time.head()\n",
    "ax = sns.heatmap(lead_by_time)\n",
    "ax.set(xlabel='Semana', ylabel='Frecuencia de eventos')\n",
    "# no publicar esta visu, está MAL usarla para esto, hacer un lineplot o histo"
   ]
  },
  {
   "cell_type": "markdown",
   "metadata": {},
   "source": [
    "## notas\n",
    "\n",
    "###### country timezone dataset\n",
    "https://www.google.com.ar/search?q=countrry+timezone+dataset&oq=countrry+timezone+dataset&aqs=chrome..69i57.8487j0j1&sourceid=chrome&ie=UTF-8"
   ]
  }
 ],
 "metadata": {
  "kernelspec": {
   "display_name": "Python 3",
   "language": "python",
   "name": "python3"
  },
  "language_info": {
   "codemirror_mode": {
    "name": "ipython",
    "version": 3
   },
   "file_extension": ".py",
   "mimetype": "text/x-python",
   "name": "python",
   "nbconvert_exporter": "python",
   "pygments_lexer": "ipython3",
   "version": "3.6.1"
  }
 },
 "nbformat": 4,
 "nbformat_minor": 2
}
