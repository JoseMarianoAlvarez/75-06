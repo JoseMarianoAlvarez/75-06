{
 "cells": [
  {
   "cell_type": "markdown",
   "metadata": {},
   "source": [
    "# Notas Práctico 1 - Marcelo Huerta San Martín"
   ]
  },
  {
   "cell_type": "code",
   "execution_count": null,
   "metadata": {},
   "outputs": [],
   "source": [
    "# Obviamente la ruta varía según la instalación local\n",
    "rutacsv = '~/7506/data/fiuba-trocafone-tp1-final-set/events.csv'"
   ]
  },
  {
   "cell_type": "code",
   "execution_count": null,
   "metadata": {},
   "outputs": [],
   "source": [
    "import pandas as pd\n",
    "troca = pd.read_csv(rutacsv, \n",
    "    low_memory=False,\n",
    "    infer_datetime_format=True,\n",
    "    parse_dates=['timestamp'],\n",
    "    na_values=['Unknown'],   # países desconocidos se cambian a NA\n",
    ")"
   ]
  },
  {
   "cell_type": "code",
   "execution_count": null,
   "metadata": {},
   "outputs": [],
   "source": [
    "# Exploración inicial para determinar qué eventos son los que contienen información de país, región y ciudad para \n",
    "# una persona\n",
    "cualpais = troca.loc[:, ['event', 'person', 'country']].dropna()\n",
    "cualpais['event'].drop_duplicates()"
   ]
  },
  {
   "cell_type": "code",
   "execution_count": null,
   "metadata": {},
   "outputs": [],
   "source": [
    "# De lo anterior, solo 'visited site' contiene datos de país, se crea el df en consecuencia\n",
    "# se remueven aquellas personas que tengan país NA (por haber sido originalmente Unknown)\n",
    "pais_por_persona = troca.loc[troca['event'] == 'visited site', ['person', 'country']].dropna(axis=0, how='any')\n",
    "pais_por_persona.set_index('person', inplace=True)\n",
    "# Este dataframe luego podrá ser usado en otras búsquedas"
   ]
  },
  {
   "cell_type": "markdown",
   "metadata": {},
   "source": [
    "## Exploraciones preliminares"
   ]
  },
  {
   "cell_type": "markdown",
   "metadata": {},
   "source": [
    "### Países con más accesos"
   ]
  },
  {
   "cell_type": "code",
   "execution_count": null,
   "metadata": {},
   "outputs": [],
   "source": [
    "ev_por_persona = troca.loc[:, ['event', 'person']]\n",
    "ev_por_pais = (\n",
    "    ev_por_persona.merge(pais_por_persona, on='person', how='left') # Agregar el país al df\n",
    "    .groupby(['country', 'event'])['country']\n",
    "    .count()\n",
    "    .unstack('event').fillna(0)\n",
    ")\n",
    "\n",
    "_ = ev_por_pais.plot(kind='bar', stacked='true', logy=True, figsize=(20,15))\n",
    "_.set_title('Eventos por país de origen', fontsize=24)\n",
    "_.set_xlabel('País', fontsize=18)\n",
    "_.set_ylabel('Cantidad de eventos (escala log.)', fontsize=18)"
   ]
  },
  {
   "cell_type": "markdown",
   "metadata": {},
   "source": []
  },
  {
   "cell_type": "markdown",
   "metadata": {},
   "source": [
    "### Impacto publicitario"
   ]
  },
  {
   "cell_type": "code",
   "execution_count": null,
   "metadata": {},
   "outputs": [],
   "source": [
    "# Columnas relevantes en los eventos de impacto publicitario?\n",
    "troca[troca.event == 'ad campaign hit'].dropna(axis=1, how='all').drop('event', axis=1).head()"
   ]
  },
  {
   "cell_type": "code",
   "execution_count": null,
   "metadata": {},
   "outputs": [],
   "source": [
    "# Se toman en cuenta todos los hits por campaña considerando sólo persona y origen de la campaña, \n",
    "# y luego se asocia al país por la persona (descartando aquellos donde el país de la persona es desconocido)\n",
    "hits = (\n",
    "    troca.loc[troca['event'] == 'ad campaign hit', ['person', 'campaign_source']]\n",
    "    .merge(pais_por_persona, on='person', how='left')\n",
    "    .dropna(how='any')\n",
    ").set_index('country')\n",
    "\n",
    "# Elegimos los países más significativos\n",
    "paises = ['Argentina', 'Brazil', 'United States']\n",
    "hits_signif = hits.loc[paises, :].reset_index()\n",
    "\n",
    "# Los agrupamos por campaña y país, contándolos y luego desagregando por país para graficar\n",
    "\n",
    "hits_por_pais = (hits_signif.groupby(['campaign_source', 'country', ])\n",
    "     .count()\n",
    "     .unstack('country')\n",
    "     .fillna(0)\n",
    ")\n",
    "hits_por_pais.columns = hits_por_pais.columns.get_level_values(1)\n",
    "hits_por_pais = hits_por_pais.T\n",
    "\n",
    "_ = hits_por_pais.plot(kind='bar', figsize=(20,10), logy=True, grid=True)\n",
    "_.set_title('Impacto publicitario en los 3 países más significativos', fontsize=24)\n",
    "_.set_ylabel('Cantidad de hits (escala log.)', fontsize=20)\n",
    "_.set_xlabel('País', fontsize=20)"
   ]
  },
  {
   "cell_type": "markdown",
   "metadata": {},
   "source": [
    "### Búsqueda de eventos de aquellas personas que hayan completado conversiones"
   ]
  },
  {
   "cell_type": "code",
   "execution_count": null,
   "metadata": {},
   "outputs": [],
   "source": [
    "conversiones = troca.loc[troca.event == 'conversion', 'person'].drop_duplicates()\n",
    "checkouts = troca.loc[troca.event == 'checkout', 'person'].drop_duplicates()\n",
    "eventos_de_personas_con_conversiones = troca.loc[troca.person.isin(conversiones), :]\n",
    "eventos_de_personas_con_conversiones"
   ]
  }
 ],
 "metadata": {
  "kernelspec": {
   "display_name": "Python 3",
   "language": "python",
   "name": "python3"
  },
  "language_info": {
   "codemirror_mode": {
    "name": "ipython",
    "version": 3
   },
   "file_extension": ".py",
   "mimetype": "text/x-python",
   "name": "python",
   "nbconvert_exporter": "python",
   "pygments_lexer": "ipython3",
   "version": "3.6.4"
  }
 },
 "nbformat": 4,
 "nbformat_minor": 2
}
