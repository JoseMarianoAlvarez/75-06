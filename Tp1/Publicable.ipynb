{
 "cells": [
  {
   "cell_type": "markdown",
   "metadata": {},
   "source": [
    "# Informe Trocafone\n",
    "\n",
    "## Cosas dignas de destacar: ¿?\n",
    "\n",
    "\n",
    "\n",
    "\n",
    "---\n",
    "\n",
    "###### Imports"
   ]
  },
  {
   "cell_type": "code",
   "execution_count": 1,
   "metadata": {},
   "outputs": [],
   "source": [
    "import pandas as pd\n",
    "import numpy as np\n",
    "import matplotlib.pyplot as plt\n",
    "import seaborn as sns; sns.set()\n",
    "%matplotlib inline"
   ]
  },
  {
   "cell_type": "markdown",
   "metadata": {},
   "source": [
    "## ETL\n",
    "### Carga y deduplicación"
   ]
  },
  {
   "cell_type": "code",
   "execution_count": 4,
   "metadata": {},
   "outputs": [],
   "source": [
    "#troca = pd.read_csv('data/events.csv', encoding='UTF-8', low_memory = False, parse_dates = ['timestamp'])\n",
    "#troca_dedup = troca.drop_duplicates()\n",
    "#troca.count(), troca_dedup.count()"
   ]
  },
  {
   "cell_type": "markdown",
   "metadata": {},
   "source": [
    "### Saco información de columnas existentes en el dataframe de Trocafone\n",
    "* marca\n",
    "* día de la semana\n",
    "* momento del día\n",
    "* pais de los eventos que no lo tienen (a traves de un join con país del usuario existente en otros eventos).\n",
    "* region de los eventos que no la tienen (a traves de un join con país del usuario existente en otros eventos).\n",
    "* ciudad de los eventos que no la tienen (a traves de un join con país del usuario existente en otros eventos)."
   ]
  },
  {
   "cell_type": "code",
   "execution_count": 10,
   "metadata": {},
   "outputs": [
    {
     "data": {
      "text/html": [
       "<div>\n",
       "<style>\n",
       "    .dataframe thead tr:only-child th {\n",
       "        text-align: right;\n",
       "    }\n",
       "\n",
       "    .dataframe thead th {\n",
       "        text-align: left;\n",
       "    }\n",
       "\n",
       "    .dataframe tbody tr th {\n",
       "        vertical-align: top;\n",
       "    }\n",
       "</style>\n",
       "<table border=\"1\" class=\"dataframe\">\n",
       "  <thead>\n",
       "    <tr style=\"text-align: right;\">\n",
       "      <th></th>\n",
       "      <th>timestamp</th>\n",
       "      <th>dia_semana</th>\n",
       "      <th>event</th>\n",
       "      <th>person</th>\n",
       "      <th>url</th>\n",
       "      <th>sku</th>\n",
       "      <th>marca</th>\n",
       "      <th>model</th>\n",
       "      <th>condition</th>\n",
       "      <th>storage</th>\n",
       "      <th>...</th>\n",
       "      <th>search_engine</th>\n",
       "      <th>channel</th>\n",
       "      <th>new_vs_returning</th>\n",
       "      <th>city</th>\n",
       "      <th>region</th>\n",
       "      <th>country</th>\n",
       "      <th>device_type</th>\n",
       "      <th>screen_resolution</th>\n",
       "      <th>operating_system_version</th>\n",
       "      <th>browser_version</th>\n",
       "    </tr>\n",
       "  </thead>\n",
       "  <tbody>\n",
       "    <tr>\n",
       "      <th>0</th>\n",
       "      <td>2018-05-31 23:38:05</td>\n",
       "      <td>Thursday</td>\n",
       "      <td>ad campaign hit</td>\n",
       "      <td>0004b0a2</td>\n",
       "      <td>/comprar/iphone/iphone-5s</td>\n",
       "      <td>NaN</td>\n",
       "      <td>NaN</td>\n",
       "      <td>NaN</td>\n",
       "      <td>NaN</td>\n",
       "      <td>NaN</td>\n",
       "      <td>...</td>\n",
       "      <td>NaN</td>\n",
       "      <td>NaN</td>\n",
       "      <td>NaN</td>\n",
       "      <td>NaN</td>\n",
       "      <td>NaN</td>\n",
       "      <td>NaN</td>\n",
       "      <td>NaN</td>\n",
       "      <td>NaN</td>\n",
       "      <td>NaN</td>\n",
       "      <td>NaN</td>\n",
       "    </tr>\n",
       "  </tbody>\n",
       "</table>\n",
       "<p>1 rows × 25 columns</p>\n",
       "</div>"
      ],
      "text/plain": [
       "            timestamp dia_semana            event    person  \\\n",
       "0 2018-05-31 23:38:05   Thursday  ad campaign hit  0004b0a2   \n",
       "\n",
       "                         url  sku marca model condition storage  \\\n",
       "0  /comprar/iphone/iphone-5s  NaN   NaN   NaN       NaN     NaN   \n",
       "\n",
       "        ...       search_engine channel new_vs_returning city region country  \\\n",
       "0       ...                 NaN     NaN              NaN  NaN    NaN     NaN   \n",
       "\n",
       "  device_type screen_resolution operating_system_version browser_version  \n",
       "0         NaN               NaN                      NaN             NaN  \n",
       "\n",
       "[1 rows x 25 columns]"
      ]
     },
     "execution_count": 10,
     "metadata": {},
     "output_type": "execute_result"
    }
   ],
   "source": [
    "# De model, extraigo la marca\n",
    "if 'marca' in troca.columns:\n",
    "    troca.drop(['marca'], axis=1, inplace=True)\n",
    "\n",
    "marca = troca.model.str.split().str.get(0)\n",
    "troca.insert(loc=6, column='marca', value=marca)\n",
    "troca.head(1)"
   ]
  },
  {
   "cell_type": "code",
   "execution_count": 11,
   "metadata": {},
   "outputs": [
    {
     "data": {
      "text/html": [
       "<div>\n",
       "<style>\n",
       "    .dataframe thead tr:only-child th {\n",
       "        text-align: right;\n",
       "    }\n",
       "\n",
       "    .dataframe thead th {\n",
       "        text-align: left;\n",
       "    }\n",
       "\n",
       "    .dataframe tbody tr th {\n",
       "        vertical-align: top;\n",
       "    }\n",
       "</style>\n",
       "<table border=\"1\" class=\"dataframe\">\n",
       "  <thead>\n",
       "    <tr style=\"text-align: right;\">\n",
       "      <th></th>\n",
       "      <th>timestamp</th>\n",
       "      <th>dia_semana</th>\n",
       "      <th>event</th>\n",
       "      <th>person</th>\n",
       "      <th>url</th>\n",
       "      <th>sku</th>\n",
       "      <th>marca</th>\n",
       "      <th>model</th>\n",
       "      <th>condition</th>\n",
       "      <th>storage</th>\n",
       "      <th>...</th>\n",
       "      <th>search_engine</th>\n",
       "      <th>channel</th>\n",
       "      <th>new_vs_returning</th>\n",
       "      <th>city</th>\n",
       "      <th>region</th>\n",
       "      <th>country</th>\n",
       "      <th>device_type</th>\n",
       "      <th>screen_resolution</th>\n",
       "      <th>operating_system_version</th>\n",
       "      <th>browser_version</th>\n",
       "    </tr>\n",
       "  </thead>\n",
       "  <tbody>\n",
       "    <tr>\n",
       "      <th>0</th>\n",
       "      <td>2018-05-31 23:38:05</td>\n",
       "      <td>Thursday</td>\n",
       "      <td>ad campaign hit</td>\n",
       "      <td>0004b0a2</td>\n",
       "      <td>/comprar/iphone/iphone-5s</td>\n",
       "      <td>NaN</td>\n",
       "      <td>NaN</td>\n",
       "      <td>NaN</td>\n",
       "      <td>NaN</td>\n",
       "      <td>NaN</td>\n",
       "      <td>...</td>\n",
       "      <td>NaN</td>\n",
       "      <td>NaN</td>\n",
       "      <td>NaN</td>\n",
       "      <td>NaN</td>\n",
       "      <td>NaN</td>\n",
       "      <td>NaN</td>\n",
       "      <td>NaN</td>\n",
       "      <td>NaN</td>\n",
       "      <td>NaN</td>\n",
       "      <td>NaN</td>\n",
       "    </tr>\n",
       "  </tbody>\n",
       "</table>\n",
       "<p>1 rows × 25 columns</p>\n",
       "</div>"
      ],
      "text/plain": [
       "            timestamp dia_semana            event    person  \\\n",
       "0 2018-05-31 23:38:05   Thursday  ad campaign hit  0004b0a2   \n",
       "\n",
       "                         url  sku marca model condition storage  \\\n",
       "0  /comprar/iphone/iphone-5s  NaN   NaN   NaN       NaN     NaN   \n",
       "\n",
       "        ...       search_engine channel new_vs_returning city region country  \\\n",
       "0       ...                 NaN     NaN              NaN  NaN    NaN     NaN   \n",
       "\n",
       "  device_type screen_resolution operating_system_version browser_version  \n",
       "0         NaN               NaN                      NaN             NaN  \n",
       "\n",
       "[1 rows x 25 columns]"
      ]
     },
     "execution_count": 11,
     "metadata": {},
     "output_type": "execute_result"
    }
   ],
   "source": [
    "if 'dia_semana' in troca.columns:\n",
    "    troca.drop(['dia_semana'], axis=1, inplace=True)\n",
    "\n",
    "dia_semana = troca['timestamp'].apply(lambda x : x.strftime('%A'))\n",
    "troca.insert(loc=1, column='dia_semana', value=dia_semana)\n",
    "troca.head(1)"
   ]
  },
  {
   "cell_type": "markdown",
   "metadata": {},
   "source": [
    "### Agrego información de otros dataframes oficiales\n",
    "* coordenadas de ciudades y geojson de paises"
   ]
  },
  {
   "cell_type": "markdown",
   "metadata": {},
   "source": [
    "### Creo dataframes por evento\n",
    "##### Cantidad de eventos por tipo"
   ]
  },
  {
   "cell_type": "code",
   "execution_count": 12,
   "metadata": {},
   "outputs": [
    {
     "data": {
      "text/plain": [
       "viewed product       528931\n",
       "brand listing         98635\n",
       "visited site          87378\n",
       "ad campaign hit       82827\n",
       "generic listing       67534\n",
       "searched products     56073\n",
       "search engine hit     50957\n",
       "checkout              33735\n",
       "staticpage             3598\n",
       "conversion             1172\n",
       "lead                    448\n",
       "Name: event, dtype: int64"
      ]
     },
     "execution_count": 12,
     "metadata": {},
     "output_type": "execute_result"
    }
   ],
   "source": [
    "troca['event'].value_counts()"
   ]
  },
  {
   "cell_type": "code",
   "execution_count": 13,
   "metadata": {},
   "outputs": [
    {
     "data": {
      "text/html": [
       "<div>\n",
       "<style>\n",
       "    .dataframe thead tr:only-child th {\n",
       "        text-align: right;\n",
       "    }\n",
       "\n",
       "    .dataframe thead th {\n",
       "        text-align: left;\n",
       "    }\n",
       "\n",
       "    .dataframe tbody tr th {\n",
       "        vertical-align: top;\n",
       "    }\n",
       "</style>\n",
       "<table border=\"1\" class=\"dataframe\">\n",
       "  <thead>\n",
       "    <tr style=\"text-align: right;\">\n",
       "      <th></th>\n",
       "      <th>timestamp</th>\n",
       "      <th>dia_semana</th>\n",
       "      <th>person</th>\n",
       "      <th>sku</th>\n",
       "      <th>marca</th>\n",
       "      <th>model</th>\n",
       "      <th>condition</th>\n",
       "      <th>storage</th>\n",
       "      <th>color</th>\n",
       "    </tr>\n",
       "  </thead>\n",
       "  <tbody>\n",
       "    <tr>\n",
       "      <th>2</th>\n",
       "      <td>2018-05-31 23:38:09</td>\n",
       "      <td>Thursday</td>\n",
       "      <td>0004b0a2</td>\n",
       "      <td>2694.0</td>\n",
       "      <td>iPhone</td>\n",
       "      <td>iPhone 5s</td>\n",
       "      <td>Bom</td>\n",
       "      <td>32GB</td>\n",
       "      <td>Cinza espacial</td>\n",
       "    </tr>\n",
       "  </tbody>\n",
       "</table>\n",
       "</div>"
      ],
      "text/plain": [
       "            timestamp dia_semana    person     sku   marca      model  \\\n",
       "2 2018-05-31 23:38:09   Thursday  0004b0a2  2694.0  iPhone  iPhone 5s   \n",
       "\n",
       "  condition storage           color  \n",
       "2       Bom    32GB  Cinza espacial  "
      ]
     },
     "execution_count": 13,
     "metadata": {},
     "output_type": "execute_result"
    }
   ],
   "source": [
    "view_prod = troca[troca.event == 'viewed product'].dropna(axis=1, how='all').drop('event', axis=1)\n",
    "view_prod.head(1)"
   ]
  },
  {
   "cell_type": "code",
   "execution_count": null,
   "metadata": {},
   "outputs": [],
   "source": [
    "brand_listing = troca[troca.event == 'brand listing'].dropna(axis=1, how='all').drop('event', axis=1)\n",
    "brand_listing.head(1)"
   ]
  },
  {
   "cell_type": "code",
   "execution_count": null,
   "metadata": {},
   "outputs": [],
   "source": [
    "visited_site = troca[troca.event == 'visited site'].dropna(axis=1, how='all').drop('event', axis=1)\n",
    "visited_site.head(1)"
   ]
  },
  {
   "cell_type": "code",
   "execution_count": null,
   "metadata": {},
   "outputs": [],
   "source": [
    "ad_hit = troca[troca.event == 'ad campaign hit'].dropna(axis=1, how='all').drop('event', axis=1)\n",
    "ad_hit.head(1)"
   ]
  },
  {
   "cell_type": "code",
   "execution_count": null,
   "metadata": {},
   "outputs": [],
   "source": [
    "generic_listing = troca[troca.event == 'generic listing'].dropna(axis=1, how='all').drop('event', axis=1)\n",
    "generic_listing.head(1)"
   ]
  },
  {
   "cell_type": "code",
   "execution_count": 14,
   "metadata": {},
   "outputs": [
    {
     "data": {
      "text/html": [
       "<div>\n",
       "<style>\n",
       "    .dataframe thead tr:only-child th {\n",
       "        text-align: right;\n",
       "    }\n",
       "\n",
       "    .dataframe thead th {\n",
       "        text-align: left;\n",
       "    }\n",
       "\n",
       "    .dataframe tbody tr th {\n",
       "        vertical-align: top;\n",
       "    }\n",
       "</style>\n",
       "<table border=\"1\" class=\"dataframe\">\n",
       "  <thead>\n",
       "    <tr style=\"text-align: right;\">\n",
       "      <th></th>\n",
       "      <th>timestamp</th>\n",
       "      <th>dia_semana</th>\n",
       "      <th>person</th>\n",
       "      <th>skus</th>\n",
       "      <th>search_term</th>\n",
       "    </tr>\n",
       "  </thead>\n",
       "  <tbody>\n",
       "    <tr>\n",
       "      <th>157</th>\n",
       "      <td>2018-02-06 02:29:49</td>\n",
       "      <td>Tuesday</td>\n",
       "      <td>00204059</td>\n",
       "      <td>2692,6819,823,2779,13864,2784,8135,6805,2773,2...</td>\n",
       "      <td>moto g 4</td>\n",
       "    </tr>\n",
       "  </tbody>\n",
       "</table>\n",
       "</div>"
      ],
      "text/plain": [
       "              timestamp dia_semana    person  \\\n",
       "157 2018-02-06 02:29:49    Tuesday  00204059   \n",
       "\n",
       "                                                  skus search_term  \n",
       "157  2692,6819,823,2779,13864,2784,8135,6805,2773,2...    moto g 4  "
      ]
     },
     "execution_count": 14,
     "metadata": {},
     "output_type": "execute_result"
    }
   ],
   "source": [
    "searched_products = troca[troca.event == 'searched products'].dropna(axis=1, how='all').drop('event', axis=1)\n",
    "searched_products.head(1)\n"
   ]
  },
  {
   "cell_type": "code",
   "execution_count": null,
   "metadata": {},
   "outputs": [],
   "source": [
    "search_engine_hit = troca[troca.event == 'search engine hit'].dropna(axis=1, how='all').drop('event', axis=1)\n",
    "search_engine_hit.head(1)"
   ]
  },
  {
   "cell_type": "code",
   "execution_count": null,
   "metadata": {},
   "outputs": [],
   "source": [
    "checkout = troca[troca.event == 'checkout'].dropna(axis=1, how='all').drop('event', axis=1)\n",
    "checkout.head(1)"
   ]
  },
  {
   "cell_type": "code",
   "execution_count": null,
   "metadata": {},
   "outputs": [],
   "source": [
    "staticpage = troca[troca.event == 'staticpage'].dropna(axis=1, how='all').drop('event', axis=1)\n",
    "staticpage.head(1)"
   ]
  },
  {
   "cell_type": "code",
   "execution_count": 15,
   "metadata": {},
   "outputs": [
    {
     "data": {
      "text/html": [
       "<div>\n",
       "<style>\n",
       "    .dataframe thead tr:only-child th {\n",
       "        text-align: right;\n",
       "    }\n",
       "\n",
       "    .dataframe thead th {\n",
       "        text-align: left;\n",
       "    }\n",
       "\n",
       "    .dataframe tbody tr th {\n",
       "        vertical-align: top;\n",
       "    }\n",
       "</style>\n",
       "<table border=\"1\" class=\"dataframe\">\n",
       "  <thead>\n",
       "    <tr style=\"text-align: right;\">\n",
       "      <th></th>\n",
       "      <th>timestamp</th>\n",
       "      <th>dia_semana</th>\n",
       "      <th>person</th>\n",
       "      <th>sku</th>\n",
       "      <th>marca</th>\n",
       "      <th>model</th>\n",
       "      <th>condition</th>\n",
       "      <th>storage</th>\n",
       "      <th>color</th>\n",
       "    </tr>\n",
       "  </thead>\n",
       "  <tbody>\n",
       "    <tr>\n",
       "      <th>220</th>\n",
       "      <td>2018-03-20 17:46:12</td>\n",
       "      <td>Tuesday</td>\n",
       "      <td>00204059</td>\n",
       "      <td>3084.0</td>\n",
       "      <td>Motorola</td>\n",
       "      <td>Motorola Moto X2</td>\n",
       "      <td>Muito Bom</td>\n",
       "      <td>32GB</td>\n",
       "      <td>Couro Vintage</td>\n",
       "    </tr>\n",
       "  </tbody>\n",
       "</table>\n",
       "</div>"
      ],
      "text/plain": [
       "              timestamp dia_semana    person     sku     marca  \\\n",
       "220 2018-03-20 17:46:12    Tuesday  00204059  3084.0  Motorola   \n",
       "\n",
       "                model  condition storage          color  \n",
       "220  Motorola Moto X2  Muito Bom    32GB  Couro Vintage  "
      ]
     },
     "execution_count": 15,
     "metadata": {},
     "output_type": "execute_result"
    }
   ],
   "source": [
    "conversion = troca[troca.event == 'conversion'].dropna(axis=1, how='all').drop('event', axis=1)\n",
    "conversion.head(1)"
   ]
  },
  {
   "cell_type": "markdown",
   "metadata": {},
   "source": [
    "### Lead\n",
    "\n",
    "“lead”: El usuario se registra para recibir una notificación de disponibilidad de stock, para un producto que no se encontraba disponible en ese momento.\n",
    "\n",
    "* hay usuarios que hacen más pedidos?\n",
    "* qué modelos estan en falta?"
   ]
  },
  {
   "cell_type": "code",
   "execution_count": 23,
   "metadata": {},
   "outputs": [
    {
     "data": {
      "text/html": [
       "<div>\n",
       "<style>\n",
       "    .dataframe thead tr:only-child th {\n",
       "        text-align: right;\n",
       "    }\n",
       "\n",
       "    .dataframe thead th {\n",
       "        text-align: left;\n",
       "    }\n",
       "\n",
       "    .dataframe tbody tr th {\n",
       "        vertical-align: top;\n",
       "    }\n",
       "</style>\n",
       "<table border=\"1\" class=\"dataframe\">\n",
       "  <thead>\n",
       "    <tr style=\"text-align: right;\">\n",
       "      <th></th>\n",
       "      <th>timestamp</th>\n",
       "      <th>dia_semana</th>\n",
       "      <th>person</th>\n",
       "      <th>marca</th>\n",
       "      <th>model</th>\n",
       "    </tr>\n",
       "  </thead>\n",
       "  <tbody>\n",
       "    <tr>\n",
       "      <th>476477</th>\n",
       "      <td>2018-01-03 12:52:30</td>\n",
       "      <td>Wednesday</td>\n",
       "      <td>799b6d87</td>\n",
       "      <td>Samsung</td>\n",
       "      <td>Samsung Galaxy J7</td>\n",
       "    </tr>\n",
       "  </tbody>\n",
       "</table>\n",
       "</div>"
      ],
      "text/plain": [
       "                 timestamp dia_semana    person    marca              model\n",
       "476477 2018-01-03 12:52:30  Wednesday  799b6d87  Samsung  Samsung Galaxy J7"
      ]
     },
     "execution_count": 23,
     "metadata": {},
     "output_type": "execute_result"
    }
   ],
   "source": [
    "lead = troca[troca.event == 'lead'].dropna(axis=1, how='all').drop('event', axis=1)\n",
    "\n",
    "# Muestro lead ordenado por fecha\n",
    "lead.sort_values(by='timestamp', axis=0, ascending=True, inplace=False, kind='quicksort', na_position='last').head(1)"
   ]
  },
  {
   "cell_type": "code",
   "execution_count": 27,
   "metadata": {},
   "outputs": [
    {
     "data": {
      "text/html": [
       "<div>\n",
       "<style>\n",
       "    .dataframe thead tr:only-child th {\n",
       "        text-align: right;\n",
       "    }\n",
       "\n",
       "    .dataframe thead th {\n",
       "        text-align: left;\n",
       "    }\n",
       "\n",
       "    .dataframe tbody tr th {\n",
       "        vertical-align: top;\n",
       "    }\n",
       "</style>\n",
       "<table border=\"1\" class=\"dataframe\">\n",
       "  <thead>\n",
       "    <tr>\n",
       "      <th></th>\n",
       "      <th></th>\n",
       "      <th></th>\n",
       "      <th colspan=\"6\" halign=\"left\">marca</th>\n",
       "      <th colspan=\"4\" halign=\"left\">model</th>\n",
       "      <th>...</th>\n",
       "      <th colspan=\"4\" halign=\"left\">person</th>\n",
       "      <th colspan=\"6\" halign=\"left\">timestamp</th>\n",
       "    </tr>\n",
       "    <tr>\n",
       "      <th></th>\n",
       "      <th></th>\n",
       "      <th></th>\n",
       "      <th>count</th>\n",
       "      <th>unique</th>\n",
       "      <th>top</th>\n",
       "      <th>freq</th>\n",
       "      <th>first</th>\n",
       "      <th>last</th>\n",
       "      <th>count</th>\n",
       "      <th>unique</th>\n",
       "      <th>top</th>\n",
       "      <th>freq</th>\n",
       "      <th>...</th>\n",
       "      <th>top</th>\n",
       "      <th>freq</th>\n",
       "      <th>first</th>\n",
       "      <th>last</th>\n",
       "      <th>count</th>\n",
       "      <th>unique</th>\n",
       "      <th>top</th>\n",
       "      <th>freq</th>\n",
       "      <th>first</th>\n",
       "      <th>last</th>\n",
       "    </tr>\n",
       "    <tr>\n",
       "      <th>marca</th>\n",
       "      <th>model</th>\n",
       "      <th>person</th>\n",
       "      <th></th>\n",
       "      <th></th>\n",
       "      <th></th>\n",
       "      <th></th>\n",
       "      <th></th>\n",
       "      <th></th>\n",
       "      <th></th>\n",
       "      <th></th>\n",
       "      <th></th>\n",
       "      <th></th>\n",
       "      <th></th>\n",
       "      <th></th>\n",
       "      <th></th>\n",
       "      <th></th>\n",
       "      <th></th>\n",
       "      <th></th>\n",
       "      <th></th>\n",
       "      <th></th>\n",
       "      <th></th>\n",
       "      <th></th>\n",
       "      <th></th>\n",
       "    </tr>\n",
       "  </thead>\n",
       "  <tbody>\n",
       "    <tr>\n",
       "      <th>Asus</th>\n",
       "      <th>Asus Zenfone 3 Max 16 GB</th>\n",
       "      <th>5f25cb5d</th>\n",
       "      <td>1</td>\n",
       "      <td>1</td>\n",
       "      <td>Asus</td>\n",
       "      <td>1</td>\n",
       "      <td>NaN</td>\n",
       "      <td>NaN</td>\n",
       "      <td>1</td>\n",
       "      <td>1</td>\n",
       "      <td>Asus Zenfone 3 Max 16 GB</td>\n",
       "      <td>1</td>\n",
       "      <td>...</td>\n",
       "      <td>5f25cb5d</td>\n",
       "      <td>1</td>\n",
       "      <td>NaN</td>\n",
       "      <td>NaN</td>\n",
       "      <td>1</td>\n",
       "      <td>1</td>\n",
       "      <td>2018-04-18 18:09:37</td>\n",
       "      <td>1</td>\n",
       "      <td>2018-04-18 18:09:37</td>\n",
       "      <td>2018-04-18 18:09:37</td>\n",
       "    </tr>\n",
       "  </tbody>\n",
       "</table>\n",
       "<p>1 rows × 24 columns</p>\n",
       "</div>"
      ],
      "text/plain": [
       "                                        marca                               \\\n",
       "                                        count unique   top freq first last   \n",
       "marca model                    person                                        \n",
       "Asus  Asus Zenfone 3 Max 16 GB 5f25cb5d     1      1  Asus    1   NaN  NaN   \n",
       "\n",
       "                                        model         \\\n",
       "                                        count unique   \n",
       "marca model                    person                  \n",
       "Asus  Asus Zenfone 3 Max 16 GB 5f25cb5d     1      1   \n",
       "\n",
       "                                                                        \\\n",
       "                                                              top freq   \n",
       "marca model                    person                                    \n",
       "Asus  Asus Zenfone 3 Max 16 GB 5f25cb5d  Asus Zenfone 3 Max 16 GB    1   \n",
       "\n",
       "                                                ...             person       \\\n",
       "                                                ...                top freq   \n",
       "marca model                    person           ...                           \n",
       "Asus  Asus Zenfone 3 Max 16 GB 5f25cb5d         ...           5f25cb5d    1   \n",
       "\n",
       "                                                   timestamp         \\\n",
       "                                        first last     count unique   \n",
       "marca model                    person                                 \n",
       "Asus  Asus Zenfone 3 Max 16 GB 5f25cb5d   NaN  NaN         1      1   \n",
       "\n",
       "                                                                   \\\n",
       "                                                         top freq   \n",
       "marca model                    person                               \n",
       "Asus  Asus Zenfone 3 Max 16 GB 5f25cb5d  2018-04-18 18:09:37    1   \n",
       "\n",
       "                                                              \\\n",
       "                                                       first   \n",
       "marca model                    person                          \n",
       "Asus  Asus Zenfone 3 Max 16 GB 5f25cb5d  2018-04-18 18:09:37   \n",
       "\n",
       "                                                              \n",
       "                                                        last  \n",
       "marca model                    person                         \n",
       "Asus  Asus Zenfone 3 Max 16 GB 5f25cb5d  2018-04-18 18:09:37  \n",
       "\n",
       "[1 rows x 24 columns]"
      ]
     },
     "execution_count": 27,
     "metadata": {},
     "output_type": "execute_result"
    }
   ],
   "source": [
    "# agrupo por marca, modelo y usuario que hace el pedido, para tener una idea de la información que hay\n",
    "lead_by_marca = lead.groupby(['marca', 'model', 'person'])\n",
    "lead_by_marca[['marca', 'model', 'person','timestamp']].describe().head(1)"
   ]
  },
  {
   "cell_type": "code",
   "execution_count": 28,
   "metadata": {},
   "outputs": [
    {
     "data": {
      "text/plain": [
       "marca     model                        person  \n",
       "Samsung   Samsung Galaxy J7 Prime      97e0bcf2    14\n",
       "iPhone    iPhone 6S Plus               58692743     6\n",
       "          iPhone 8                     aaf00dd9     5\n",
       "Lenovo    Lenovo Vibe A7010 Dual Chip  d5661793     4\n",
       "Motorola  Motorola Moto G4 Plus        e1eea411     3\n",
       "          Motorola Moto G5 Plus        52a4edd3     3\n",
       "          Motorola Moto G5S Plus       a0509b29     3\n",
       "iPhone    iPhone 6 Plus                52a4edd3     3\n",
       "                                       f21b8696     3\n",
       "Motorola  Motorola Moto G3 4G          52a4edd3     3\n",
       "Name: timestamp, dtype: int64"
      ]
     },
     "execution_count": 28,
     "metadata": {},
     "output_type": "execute_result"
    }
   ],
   "source": [
    "# Ver a quien aplicar una estrategia de carro abandonado (enviar publicidad de un producto que pidió o similares):\n",
    "cant_pedidos_por_marca = lead_by_marca['timestamp'].count().sort_values(ascending=False)\n",
    "cant_pedidos_por_marca.head(10)"
   ]
  },
  {
   "cell_type": "code",
   "execution_count": 31,
   "metadata": {},
   "outputs": [
    {
     "data": {
      "text/html": [
       "<div>\n",
       "<style>\n",
       "    .dataframe thead tr:only-child th {\n",
       "        text-align: right;\n",
       "    }\n",
       "\n",
       "    .dataframe thead th {\n",
       "        text-align: left;\n",
       "    }\n",
       "\n",
       "    .dataframe tbody tr th {\n",
       "        vertical-align: top;\n",
       "    }\n",
       "</style>\n",
       "<table border=\"1\" class=\"dataframe\">\n",
       "  <thead>\n",
       "    <tr style=\"text-align: right;\">\n",
       "      <th></th>\n",
       "      <th></th>\n",
       "      <th>timestamp</th>\n",
       "    </tr>\n",
       "    <tr>\n",
       "      <th>marca</th>\n",
       "      <th>model</th>\n",
       "      <th></th>\n",
       "    </tr>\n",
       "  </thead>\n",
       "  <tbody>\n",
       "    <tr>\n",
       "      <th rowspan=\"2\" valign=\"top\">iPhone</th>\n",
       "      <th>iPhone 6 Plus</th>\n",
       "      <td>35</td>\n",
       "    </tr>\n",
       "    <tr>\n",
       "      <th>iPhone 6S Plus</th>\n",
       "      <td>31</td>\n",
       "    </tr>\n",
       "    <tr>\n",
       "      <th>Samsung</th>\n",
       "      <th>Samsung Galaxy J7 Prime</th>\n",
       "      <td>26</td>\n",
       "    </tr>\n",
       "    <tr>\n",
       "      <th rowspan=\"2\" valign=\"top\">iPhone</th>\n",
       "      <th>iPhone 6S</th>\n",
       "      <td>21</td>\n",
       "    </tr>\n",
       "    <tr>\n",
       "      <th>iPhone 8</th>\n",
       "      <td>20</td>\n",
       "    </tr>\n",
       "  </tbody>\n",
       "</table>\n",
       "</div>"
      ],
      "text/plain": [
       "                                 timestamp\n",
       "marca   model                             \n",
       "iPhone  iPhone 6 Plus                   35\n",
       "        iPhone 6S Plus                  31\n",
       "Samsung Samsung Galaxy J7 Prime         26\n",
       "iPhone  iPhone 6S                       21\n",
       "        iPhone 8                        20"
      ]
     },
     "execution_count": 31,
     "metadata": {},
     "output_type": "execute_result"
    }
   ],
   "source": [
    "# Los modelos que están faltos de stock más seguido (los más pedidos)\n",
    "lead_por_marca_modelo = lead.loc[:,['timestamp','marca','model']].groupby(['marca','model']).count().sort_values('timestamp', ascending=False)\n",
    "lead_por_marca_modelo.head()"
   ]
  },
  {
   "cell_type": "code",
   "execution_count": 32,
   "metadata": {},
   "outputs": [
    {
     "data": {
      "text/plain": [
       "Text(0,0.5,'Cantidad de pedidos')"
      ]
     },
     "execution_count": 32,
     "metadata": {},
     "output_type": "execute_result"
    },
    {
     "data": {
      "image/png": "[encoded data removed]",
      "text/plain": [
       "<Figure size 1296x720 with 1 Axes>"
      ]
     },
     "metadata": {},
     "output_type": "display_data"
    }
   ],
   "source": [
    "lead_por_solo_marca = lead.loc[:,['timestamp','marca','model']].groupby(['marca','model']).count().sort_values('timestamp', ascending=False).head(10).unstack('model').fillna(0)\n",
    "\n",
    "_ = lead_por_solo_marca.plot(kind='bar', figsize=(18,10))\n",
    "_.set_title('Top 20 de marcas y modelos más pedidos', fontsize=24)\n",
    "_.set_xlabel('Marca y modelo', fontsize=18)\n",
    "_.set_ylabel('Cantidad de pedidos', fontsize=18)"
   ]
  }
 ],
 "metadata": {
  "kernelspec": {
   "display_name": "Python 3",
   "language": "python",
   "name": "python3"
  },
  "language_info": {
   "codemirror_mode": {
    "name": "ipython",
    "version": 3
   },
   "file_extension": ".py",
   "mimetype": "text/x-python",
   "name": "python",
   "nbconvert_exporter": "python",
   "pygments_lexer": "ipython3",
   "version": "3.6.4"
  }
 },
 "nbformat": 4,
 "nbformat_minor": 2
}
